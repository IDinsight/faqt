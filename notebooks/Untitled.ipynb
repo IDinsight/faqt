{
 "cells": [
  {
   "cell_type": "code",
   "execution_count": null,
   "id": "77a94b4e",
   "metadata": {},
   "outputs": [],
   "source": [
    "!pwd"
   ]
  },
  {
   "cell_type": "code",
   "execution_count": null,
   "id": "0a0a811e",
   "metadata": {},
   "outputs": [],
   "source": [
    "%load_ext autoreload\n",
    "%autoreload 2"
   ]
  },
  {
   "cell_type": "code",
   "execution_count": 4,
   "id": "efec69b6",
   "metadata": {},
   "outputs": [],
   "source": [
    "import sys\n",
    "sys.path = [\"..\"] + sys.path"
   ]
  },
  {
   "cell_type": "code",
   "execution_count": 3,
   "id": "c72eb3c3",
   "metadata": {},
   "outputs": [
    {
     "name": "stdout",
     "output_type": "stream",
     "text": [
      "/Users/sidravi/Documents/IDInsight/Praekelt/faqt/notebooks\n"
     ]
    }
   ],
   "source": [
    "!pwd"
   ]
  },
  {
   "cell_type": "code",
   "execution_count": null,
   "id": "99b31269",
   "metadata": {},
   "outputs": [],
   "source": []
  },
  {
   "cell_type": "code",
   "execution_count": 27,
   "id": "ce3ede19",
   "metadata": {},
   "outputs": [],
   "source": [
    "from faqt.model.embeddings import *\n",
    "from gensim.models import KeyedVectors"
   ]
  },
  {
   "cell_type": "code",
   "execution_count": 25,
   "id": "b7e89d7a",
   "metadata": {},
   "outputs": [],
   "source": [
    "model = KeyedVectors.load_word2vec_format((\"/Users/sidravi/Documents/IDInsight/Praekelt/faqt/data/google_news/\"\n",
    "                                           \"GoogleNews-vectors-negative300-prenorm.bin\"), binary=True)"
   ]
  },
  {
   "cell_type": "code",
   "execution_count": 21,
   "id": "16d48b50",
   "metadata": {},
   "outputs": [
    {
     "data": {
      "text/plain": [
       "'faqt'"
      ]
     },
     "execution_count": 21,
     "metadata": {},
     "output_type": "execute_result"
    }
   ],
   "source": [
    "fq.__package__"
   ]
  },
  {
   "cell_type": "code",
   "execution_count": null,
   "id": "2d620284",
   "metadata": {},
   "outputs": [],
   "source": []
  }
 ],
 "metadata": {
  "kernelspec": {
   "display_name": "Python 3",
   "language": "python",
   "name": "python3"
  },
  "language_info": {
   "codemirror_mode": {
    "name": "ipython",
    "version": 3
   },
   "file_extension": ".py",
   "mimetype": "text/x-python",
   "name": "python",
   "nbconvert_exporter": "python",
   "pygments_lexer": "ipython3",
   "version": "3.8.8"
  }
 },
 "nbformat": 4,
 "nbformat_minor": 5
}
