{
 "cells": [
  {
   "cell_type": "markdown",
   "id": "ed197006-af58-443f-aebc-eb45b6e0fe81",
   "metadata": {},
   "source": [
    "This notebook shows an example of how using multiple tagsets may improve performance for an FAQ. Key takeaways:\n",
    "* It may be a good idea to improve commonly used FAQs with multiple tag sets that add OR logic\n",
    "* We may also want to do this for large FAQs that answer a lot of different types of questions\n",
    "* We still need to be thoughtful about tags and ensure they are different from other ones\n",
    "\n",
    "Other ideas:\n",
    "* Our tag testing tool an be improved by add +tive and -tive examples and showing a score on how well the tags were matched"
   ]
  },
  {
   "cell_type": "markdown",
   "id": "c1f67dac-fa8d-452c-8f54-3d0b54bc8cd2",
   "metadata": {},
   "source": [
    "## Example data"
   ]
  },
  {
   "cell_type": "markdown",
   "id": "1afbbb75-1b6d-4e9a-887e-96bca045e8e4",
   "metadata": {},
   "source": [
    "Here are some questions that people may ask related to this"
   ]
  },
  {
   "cell_type": "code",
   "execution_count": null,
   "id": "5e24107f-87ee-4690-a845-b38344a39eef",
   "metadata": {},
   "outputs": [],
   "source": [
    "from tests.utils import load_wv_pretrained_bin\n",
    "from faqt import KeyedVectorsScorer as KVS\n",
    "from faqt.preprocessing import preprocess_text_for_word_embedding\n",
    "import pandas as pd\n",
    "import ast\n",
    "import numpy as np"
   ]
  },
  {
   "cell_type": "markdown",
   "id": "19a4cad5-ad3b-4952-9114-eda5c41d3d1c",
   "metadata": {},
   "source": [
    "### Load the data"
   ]
  },
  {
   "cell_type": "code",
   "execution_count": null,
   "id": "b4baeeb4-f380-4633-93f7-8b130a34b0a7",
   "metadata": {},
   "outputs": [],
   "source": [
    "w2v_model = load_wv_pretrained_bin(\n",
    "        \"pretrained_wv_models\", \"GoogleNews-vectors-negative300-prenorm.bin\"\n",
    ")"
   ]
  },
  {
   "cell_type": "code",
   "execution_count": null,
   "id": "0eb45265-51c8-4641-a64a-8bebbbe00d1d",
   "metadata": {},
   "outputs": [],
   "source": [
    "model = KVS(w2v_model)"
   ]
  },
  {
   "cell_type": "code",
   "execution_count": null,
   "id": "a74f288c-b65d-477f-bd38-02f46e9e83a6",
   "metadata": {},
   "outputs": [],
   "source": [
    "pd.set_option('display.max_colwidth', 0)"
   ]
  },
  {
   "cell_type": "code",
   "execution_count": null,
   "id": "d19ebeb9-b077-40e4-82ba-8127feb9a15b",
   "metadata": {},
   "outputs": [],
   "source": [
    "df = pd.read_csv(\"/Users/sidravi/Downloads/YAL FAQs - Sheet1.csv\")\n",
    "all_tags = [ast.literal_eval(x) for x in df.Tags.values]\n",
    "df.shape"
   ]
  },
  {
   "cell_type": "code",
   "execution_count": null,
   "id": "1c18d5c7-d267-4f3a-9e65-b597e5965b54",
   "metadata": {},
   "outputs": [],
   "source": [
    "ID_TO_MATCH = 8 #17"
   ]
  },
  {
   "cell_type": "code",
   "execution_count": null,
   "id": "3544bbb8-9cba-482f-8ebd-e27741e76559",
   "metadata": {},
   "outputs": [],
   "source": [
    "df.loc[[ID_TO_MATCH], :]"
   ]
  },
  {
   "cell_type": "code",
   "execution_count": null,
   "id": "437fb583-17e1-47b7-a8c3-d625cf62ab79",
   "metadata": {},
   "outputs": [],
   "source": [
    "# positive samples\n",
    "q1 = \"i have HIV and am afraid and dont know what to do\"\n",
    "q2 = \"what support can i get for coping with hiv\"\n",
    "q3 = \"i am so mad about hiv. why did this happen to me\"\n",
    "q4 = \"i am feeling angry about my hiv diagnosis\""
   ]
  },
  {
   "cell_type": "code",
   "execution_count": null,
   "id": "c63a3aa8-2854-4b6a-9e7e-4bb24afa79ae",
   "metadata": {},
   "outputs": [],
   "source": [
    "# negative samples\n",
    "q5 = \"I am embarassed about getting tested\"\n",
    "q6 = \"can i smoke if I have hiv\"\n",
    "q7 = \"i am sad all the time\" \n",
    "q8 = \"my partner has hiv what do i do\""
   ]
  },
  {
   "cell_type": "code",
   "execution_count": null,
   "id": "92ad97b3-6d83-47ca-ae17-1173864ce569",
   "metadata": {},
   "outputs": [],
   "source": [
    "all_qs = [q1, q2, q3, q4, q5, q6, q7, q8]"
   ]
  },
  {
   "cell_type": "markdown",
   "id": "5cdcaaa4-06a2-43f4-8f7c-046f8b3f8d09",
   "metadata": {},
   "source": [
    "### Support function"
   ]
  },
  {
   "cell_type": "code",
   "execution_count": null,
   "id": "c635e94d-4fc9-4f52-85be-fb7a081665e8",
   "metadata": {},
   "outputs": [],
   "source": [
    "def get_scores(id_to_update, new_tags, tagset, model):\n",
    "    if new_tags is not None:\n",
    "        tagset[id_to_update] = new_tags\n",
    "    model = model.set_tags(tagset)\n",
    "    outcomes = []\n",
    "    for q in all_qs:\n",
    "        tokens = preprocess_text_for_word_embedding(q, {}, 10)\n",
    "        outcomes.append(model.score(tokens))\n",
    "    scores = []\n",
    "    for o in outcomes:\n",
    "        scores.append([np.mean(list(x.values())) for x in o[0]])\n",
    "        \n",
    "    rank_of_id = [len(s) - np.where(np.argsort(s, ) == id_to_update)[0][0] for s in scores]\n",
    "\n",
    "    return rank_of_id, scores, outcomes"
   ]
  },
  {
   "cell_type": "code",
   "execution_count": null,
   "id": "e42f12ac-8ee6-4595-8f4d-27b27b246be3",
   "metadata": {},
   "outputs": [],
   "source": [
    "def get_top_n(df, n, scores):\n",
    "    top_n_dict = {}\n",
    "    for i, score in enumerate(scores):\n",
    "        top_n_idx = np.argsort(score)[np.arange(123, 123 - n, -1)]\n",
    "        top_n_dict[i] = df.loc[top_n_idx, :]\n",
    "    return top_n_dict"
   ]
  },
  {
   "cell_type": "code",
   "execution_count": null,
   "id": "dc835111-8410-4420-b6db-4cd37f82317a",
   "metadata": {},
   "outputs": [],
   "source": []
  },
  {
   "cell_type": "markdown",
   "id": "3dc6c0af-4adf-4b1d-96d6-63ca9b8f7a27",
   "metadata": {},
   "source": [
    "### Current scores"
   ]
  },
  {
   "cell_type": "code",
   "execution_count": null,
   "id": "73d28dc1-2ad2-45d0-88bd-499fd258cada",
   "metadata": {},
   "outputs": [],
   "source": [
    "ranks, scores, outcomes = get_scores(ID_TO_MATCH, None, all_tags.copy(), model)"
   ]
  },
  {
   "cell_type": "code",
   "execution_count": null,
   "id": "186953ef-fbe0-417d-a06d-a0ef551c864d",
   "metadata": {},
   "outputs": [],
   "source": [
    "ranks"
   ]
  },
  {
   "cell_type": "markdown",
   "id": "15194d55-626d-4d73-b0cd-2b3ca5fad40d",
   "metadata": {},
   "source": [
    "First problem is that the tags are too narrow. So let's improve them by adding tokens from the questions"
   ]
  },
  {
   "cell_type": "markdown",
   "id": "639cfcd2-9ba1-4f7a-aa0b-c607f41bfd70",
   "metadata": {},
   "source": [
    "### With better tags"
   ]
  },
  {
   "cell_type": "markdown",
   "id": "c65525d0-1de7-46fb-9e52-7340791d40e6",
   "metadata": {},
   "source": [
    "\"You are not the only person who tells me that you feel overwhelmed by your feelings about your status. In fact lots of people with HIV feel shocked or scared when they find out they have HIV. Some people might feel ashamed. But remember none of this is your fault - you are still the same you! But it does take a little while to get used to. Try to do the same things you usually do - activities, sport, seeing friends. If there is someone you trust, try to open up to them about your feelings. And ask your healthcare worker about a support group near you. If your feelings are very negative and you aren't coping please ðŸ™ reach out for support at lovelife. They have a free youth line that you can call with any questions (0800 121 900). They even have a â€˜call meâ€™ service, where they will call you back if you send them a message.\""
   ]
  },
  {
   "cell_type": "code",
   "execution_count": null,
   "id": "9fec5e1a-86c6-4d79-a3c1-fdbe0ea4febc",
   "metadata": {},
   "outputs": [],
   "source": [
    "new_tags = ['dealing', 'HIV', 'fearful', 'help', 'angry']"
   ]
  },
  {
   "cell_type": "code",
   "execution_count": null,
   "id": "5f7d3587-163a-4f9e-871f-315eb3713716",
   "metadata": {},
   "outputs": [],
   "source": [
    "new_tags = ['dealing', 'HIV', 'fearful', 'help', 'angry']\n",
    "ranks, scores, outcomes = get_scores(ID_TO_MATCH, new_tags, all_tags.copy(), model)"
   ]
  },
  {
   "cell_type": "code",
   "execution_count": null,
   "id": "4304404d-14eb-45ef-9163-cb2305516802",
   "metadata": {},
   "outputs": [],
   "source": [
    "ranks"
   ]
  },
  {
   "cell_type": "code",
   "execution_count": null,
   "id": "9247eddc-692b-4efa-8d93-1578aa6b1bef",
   "metadata": {},
   "outputs": [],
   "source": [
    "new_tags = ['HIV', 'fearful', 'help', 'angry']"
   ]
  },
  {
   "cell_type": "code",
   "execution_count": null,
   "id": "607bc86d-53a2-4593-a2bb-5165b094d05b",
   "metadata": {},
   "outputs": [],
   "source": [
    "ranks, scores, outcomes = get_scores(ID_TO_MATCH, new_tags, all_tags.copy(), model)\n",
    "ranks"
   ]
  },
  {
   "cell_type": "markdown",
   "id": "c7d1db8c-f30b-4225-80ff-84de57a7ab7b",
   "metadata": {},
   "source": [
    "Note that removing the work 'dealing' from the tag list hurts the performance of the second question but **improves** the performance of the others. \n",
    "\n",
    "This makes sense since we are averaging all the scores."
   ]
  },
  {
   "cell_type": "markdown",
   "id": "019b1e65-49e3-47f9-929c-5e8b6b20102a",
   "metadata": {},
   "source": [
    "## With different tags sets\n",
    "\n",
    "To simulate with existing code, we'll just create new tagsets and return the highest rank among them.\n",
    "For example, say for one faq, we have 3 sets and they rank as [3, 12, 14] then we return 3 as the highest rank"
   ]
  },
  {
   "cell_type": "code",
   "execution_count": null,
   "id": "9c8e12a9-9ca5-49bf-a11a-d54ef7d5c6a8",
   "metadata": {},
   "outputs": [],
   "source": [
    "def get_scores_multitagset(id_to_update, new_tagsets, tagset, model):\n",
    "    if new_tagsets is not None:\n",
    "        tagset[id_to_update] = new_tagsets.pop(0)\n",
    "        \n",
    "    for t in new_tagsets:\n",
    "        tagset.append(t)\n",
    " \n",
    "    model = model.set_tags(tagset)\n",
    "\n",
    "    outcomes = []\n",
    "    for q in all_qs:\n",
    "        tokens = preprocess_text_for_word_embedding(q, {}, 10)\n",
    "        outcomes.append(model.score(tokens))\n",
    "    \n",
    "    scores = []\n",
    "    for o in outcomes:\n",
    "        scores.append([np.mean(list(x.values())) for x in o[0]])\n",
    "\n",
    "    ranks_of_id = []\n",
    "    number_of_faqs = len(scores[0])\n",
    "    \n",
    "    best_rank_list = []\n",
    "    best_rank_idx = []\n",
    "    for j, message_scores in enumerate(scores):\n",
    "        best_rank = number_of_faqs\n",
    "        for i in [id_to_update, 124, 125, 126]:\n",
    "            rank = number_of_faqs - np.where(np.argsort(message_scores, ) == i)[0][0]\n",
    "            if rank < best_rank:\n",
    "                best_rank = rank\n",
    "                #print(j, best_rank)\n",
    "                best_idx = i\n",
    "        best_rank_list.append(best_rank)\n",
    "        best_rank_idx.append(best_idx)\n",
    "                           \n",
    "    return np.array(best_rank_list).squeeze(), best_rank_idx, scores, outcomes"
   ]
  },
  {
   "cell_type": "code",
   "execution_count": null,
   "id": "7dce2e62-77b9-4aff-818e-e25e7178668d",
   "metadata": {},
   "outputs": [],
   "source": [
    "all_qs"
   ]
  },
  {
   "cell_type": "code",
   "execution_count": null,
   "id": "bc6fcfc5-97da-4c24-8aac-449568cd68ea",
   "metadata": {},
   "outputs": [],
   "source": [
    "new_tagsets = [['dealing', 'HIV'], \n",
    "               ['fearful', 'HIV'],\n",
    "               ['help', 'HIV'],\n",
    "               ['angry', 'HIV']]"
   ]
  },
  {
   "cell_type": "code",
   "execution_count": null,
   "id": "56b02e0d-8acf-4e17-ab70-891572117e00",
   "metadata": {},
   "outputs": [],
   "source": [
    "ranks, idx, scores, outcomes = get_scores_multitagset(ID_TO_MATCH, new_tagsets.copy(), all_tags.copy(), model)\n",
    "ranks, idx"
   ]
  },
  {
   "cell_type": "code",
   "execution_count": null,
   "id": "ea5446fb-790f-42bf-9759-3f1c532e1159",
   "metadata": {},
   "outputs": [],
   "source": [
    "ranks"
   ]
  },
  {
   "cell_type": "markdown",
   "id": "1278d3ea-9055-4c60-b79e-b8fb48c7935e",
   "metadata": {},
   "source": [
    "The positive examples are now in the top 5 and the negative have of >=10.\n",
    "\n",
    "Note that the their rank improved as well since there are more tagsets to match here. I suspect performance will go down when others can have multiple tagsets as well but it is something we'll have to implement and try out."
   ]
  }
 ],
 "metadata": {
  "kernelspec": {
   "display_name": "Python 3 (ipykernel)",
   "language": "python",
   "name": "python3"
  },
  "language_info": {
   "codemirror_mode": {
    "name": "ipython",
    "version": 3
   },
   "file_extension": ".py",
   "mimetype": "text/x-python",
   "name": "python",
   "nbconvert_exporter": "python",
   "pygments_lexer": "ipython3",
   "version": "3.9.12"
  }
 },
 "nbformat": 4,
 "nbformat_minor": 5
}
